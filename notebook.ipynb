{
 "cells": [
  {
   "cell_type": "markdown",
   "id": "a5b3bc0e-b993-4ee3-bd07-825a474bd0d9",
   "metadata": {
    "tags": []
   },
   "source": [
    "# Data Analyst Associate Practical Exam Submission\n",
    "\n",
    "**You can use any tool that you want to do your analysis and create visualizations. Use this template to write up your summary for submission.**\n",
    "\n",
    "You can use any markdown formatting you wish. If you are not familiar with Markdown, read the [Markdown Guide](https://s3.amazonaws.com/talent-assets.datacamp.com/Markdown+Guide.pdf) before you start.\n",
    "\n"
   ]
  },
  {
   "cell_type": "markdown",
   "id": "91b72846",
   "metadata": {},
   "source": [
    "**Import Libarary**"
   ]
  },
  {
   "cell_type": "code",
   "execution_count": null,
   "id": "0354d3c8",
   "metadata": {},
   "outputs": [],
   "source": [
    "import pandas as pd\n",
    "import seaborn as sns\n",
    "import numpy as np\n",
    "import matplotlib.pyplot as plt\n",
    "\n",
    "%matplotlib inline"
   ]
  },
  {
   "cell_type": "markdown",
   "id": "2ab92f3c",
   "metadata": {},
   "source": [
    "**Import the csv**"
   ]
  },
  {
   "cell_type": "code",
   "execution_count": 286,
   "id": "6a3bd69d",
   "metadata": {},
   "outputs": [
    {
     "data": {
      "text/html": [
       "<div>\n",
       "<style scoped>\n",
       "    .dataframe tbody tr th:only-of-type {\n",
       "        vertical-align: middle;\n",
       "    }\n",
       "\n",
       "    .dataframe tbody tr th {\n",
       "        vertical-align: top;\n",
       "    }\n",
       "\n",
       "    .dataframe thead th {\n",
       "        text-align: right;\n",
       "    }\n",
       "</style>\n",
       "<table border=\"1\" class=\"dataframe\">\n",
       "  <thead>\n",
       "    <tr style=\"text-align: right;\">\n",
       "      <th></th>\n",
       "      <th>product_id</th>\n",
       "      <th>category</th>\n",
       "      <th>animal</th>\n",
       "      <th>size</th>\n",
       "      <th>price</th>\n",
       "      <th>sales</th>\n",
       "      <th>rating</th>\n",
       "      <th>repeat_purchase</th>\n",
       "    </tr>\n",
       "  </thead>\n",
       "  <tbody>\n",
       "    <tr>\n",
       "      <th>0</th>\n",
       "      <td>1</td>\n",
       "      <td>Food</td>\n",
       "      <td>Bird</td>\n",
       "      <td>large</td>\n",
       "      <td>51.1</td>\n",
       "      <td>1860.62</td>\n",
       "      <td>7.0</td>\n",
       "      <td>1</td>\n",
       "    </tr>\n",
       "    <tr>\n",
       "      <th>1</th>\n",
       "      <td>2</td>\n",
       "      <td>Housing</td>\n",
       "      <td>Bird</td>\n",
       "      <td>MEDIUM</td>\n",
       "      <td>35.98</td>\n",
       "      <td>963.60</td>\n",
       "      <td>6.0</td>\n",
       "      <td>0</td>\n",
       "    </tr>\n",
       "    <tr>\n",
       "      <th>2</th>\n",
       "      <td>3</td>\n",
       "      <td>Food</td>\n",
       "      <td>Dog</td>\n",
       "      <td>medium</td>\n",
       "      <td>31.23</td>\n",
       "      <td>898.30</td>\n",
       "      <td>5.0</td>\n",
       "      <td>1</td>\n",
       "    </tr>\n",
       "    <tr>\n",
       "      <th>3</th>\n",
       "      <td>4</td>\n",
       "      <td>Medicine</td>\n",
       "      <td>Cat</td>\n",
       "      <td>small</td>\n",
       "      <td>24.95</td>\n",
       "      <td>982.15</td>\n",
       "      <td>6.0</td>\n",
       "      <td>1</td>\n",
       "    </tr>\n",
       "    <tr>\n",
       "      <th>4</th>\n",
       "      <td>5</td>\n",
       "      <td>Housing</td>\n",
       "      <td>Cat</td>\n",
       "      <td>Small</td>\n",
       "      <td>26.18</td>\n",
       "      <td>832.63</td>\n",
       "      <td>7.0</td>\n",
       "      <td>1</td>\n",
       "    </tr>\n",
       "  </tbody>\n",
       "</table>\n",
       "</div>"
      ],
      "text/plain": [
       "   product_id  category animal    size  price    sales  rating  \\\n",
       "0           1      Food   Bird   large   51.1  1860.62     7.0   \n",
       "1           2   Housing   Bird  MEDIUM  35.98   963.60     6.0   \n",
       "2           3      Food    Dog  medium  31.23   898.30     5.0   \n",
       "3           4  Medicine    Cat   small  24.95   982.15     6.0   \n",
       "4           5   Housing    Cat   Small  26.18   832.63     7.0   \n",
       "\n",
       "   repeat_purchase  \n",
       "0                1  \n",
       "1                0  \n",
       "2                1  \n",
       "3                1  \n",
       "4                1  "
      ]
     },
     "execution_count": 286,
     "metadata": {},
     "output_type": "execute_result"
    }
   ],
   "source": [
    "df= pd.read_csv('pet_supplies_2212.csv')\n",
    "df.head(5)"
   ]
  },
  {
   "cell_type": "markdown",
   "id": "d1b1a012-1ccb-40e7-a1ad-77b60b256690",
   "metadata": {
    "jp-MarkdownHeadingCollapsed": true,
    "tags": []
   },
   "source": [
    "## Task 1\n",
    "\n"
   ]
  },
  {
   "cell_type": "markdown",
   "id": "fa00a4f7",
   "metadata": {},
   "source": [
    "**Check data types and description of each column**"
   ]
  },
  {
   "cell_type": "code",
   "execution_count": 287,
   "id": "03234006",
   "metadata": {},
   "outputs": [
    {
     "name": "stdout",
     "output_type": "stream",
     "text": [
      "<class 'pandas.core.frame.DataFrame'>\n",
      "RangeIndex: 1500 entries, 0 to 1499\n",
      "Data columns (total 8 columns):\n",
      " #   Column           Non-Null Count  Dtype  \n",
      "---  ------           --------------  -----  \n",
      " 0   product_id       1500 non-null   int64  \n",
      " 1   category         1500 non-null   object \n",
      " 2   animal           1500 non-null   object \n",
      " 3   size             1500 non-null   object \n",
      " 4   price            1500 non-null   object \n",
      " 5   sales            1500 non-null   float64\n",
      " 6   rating           1350 non-null   float64\n",
      " 7   repeat_purchase  1500 non-null   int64  \n",
      "dtypes: float64(2), int64(2), object(4)\n",
      "memory usage: 93.9+ KB\n"
     ]
    }
   ],
   "source": [
    "df.info()"
   ]
  },
  {
   "cell_type": "code",
   "execution_count": 288,
   "id": "3188b4a4",
   "metadata": {
    "tags": []
   },
   "outputs": [
    {
     "data": {
      "text/html": [
       "<div>\n",
       "<style scoped>\n",
       "    .dataframe tbody tr th:only-of-type {\n",
       "        vertical-align: middle;\n",
       "    }\n",
       "\n",
       "    .dataframe tbody tr th {\n",
       "        vertical-align: top;\n",
       "    }\n",
       "\n",
       "    .dataframe thead th {\n",
       "        text-align: right;\n",
       "    }\n",
       "</style>\n",
       "<table border=\"1\" class=\"dataframe\">\n",
       "  <thead>\n",
       "    <tr style=\"text-align: right;\">\n",
       "      <th></th>\n",
       "      <th>product_id</th>\n",
       "      <th>sales</th>\n",
       "      <th>rating</th>\n",
       "      <th>repeat_purchase</th>\n",
       "    </tr>\n",
       "  </thead>\n",
       "  <tbody>\n",
       "    <tr>\n",
       "      <th>count</th>\n",
       "      <td>1500.000000</td>\n",
       "      <td>1500.000000</td>\n",
       "      <td>1350.000000</td>\n",
       "      <td>1500.000000</td>\n",
       "    </tr>\n",
       "    <tr>\n",
       "      <th>mean</th>\n",
       "      <td>750.500000</td>\n",
       "      <td>996.597847</td>\n",
       "      <td>4.991111</td>\n",
       "      <td>0.604000</td>\n",
       "    </tr>\n",
       "    <tr>\n",
       "      <th>std</th>\n",
       "      <td>433.157015</td>\n",
       "      <td>323.952676</td>\n",
       "      <td>1.559755</td>\n",
       "      <td>0.489228</td>\n",
       "    </tr>\n",
       "    <tr>\n",
       "      <th>min</th>\n",
       "      <td>1.000000</td>\n",
       "      <td>286.940000</td>\n",
       "      <td>1.000000</td>\n",
       "      <td>0.000000</td>\n",
       "    </tr>\n",
       "    <tr>\n",
       "      <th>25%</th>\n",
       "      <td>375.750000</td>\n",
       "      <td>747.420000</td>\n",
       "      <td>4.000000</td>\n",
       "      <td>0.000000</td>\n",
       "    </tr>\n",
       "    <tr>\n",
       "      <th>50%</th>\n",
       "      <td>750.500000</td>\n",
       "      <td>1000.830000</td>\n",
       "      <td>5.000000</td>\n",
       "      <td>1.000000</td>\n",
       "    </tr>\n",
       "    <tr>\n",
       "      <th>75%</th>\n",
       "      <td>1125.250000</td>\n",
       "      <td>1158.157500</td>\n",
       "      <td>6.000000</td>\n",
       "      <td>1.000000</td>\n",
       "    </tr>\n",
       "    <tr>\n",
       "      <th>max</th>\n",
       "      <td>1500.000000</td>\n",
       "      <td>2255.960000</td>\n",
       "      <td>9.000000</td>\n",
       "      <td>1.000000</td>\n",
       "    </tr>\n",
       "  </tbody>\n",
       "</table>\n",
       "</div>"
      ],
      "text/plain": [
       "        product_id        sales       rating  repeat_purchase\n",
       "count  1500.000000  1500.000000  1350.000000      1500.000000\n",
       "mean    750.500000   996.597847     4.991111         0.604000\n",
       "std     433.157015   323.952676     1.559755         0.489228\n",
       "min       1.000000   286.940000     1.000000         0.000000\n",
       "25%     375.750000   747.420000     4.000000         0.000000\n",
       "50%     750.500000  1000.830000     5.000000         1.000000\n",
       "75%    1125.250000  1158.157500     6.000000         1.000000\n",
       "max    1500.000000  2255.960000     9.000000         1.000000"
      ]
     },
     "execution_count": 288,
     "metadata": {},
     "output_type": "execute_result"
    }
   ],
   "source": [
    "df.describe()"
   ]
  },
  {
   "cell_type": "code",
   "execution_count": 289,
   "id": "4c6b8ed4",
   "metadata": {},
   "outputs": [
    {
     "name": "stdout",
     "output_type": "stream",
     "text": [
      "category:  ['Food' 'Housing' 'Medicine' 'Toys' 'Equipment' 'Accessory' '-']\n",
      "animal:  ['Bird' 'Dog' 'Cat' 'Fish']\n",
      "size:  ['large' 'MEDIUM' 'medium' 'small' 'Small' 'Large' 'SMALL' 'Medium'\n",
      " 'LARGE']\n",
      "rating:  [ 7.  6.  5.  4.  8.  1.  3. nan  2.  9.]\n",
      "repeat_purchase:  [1 0]\n"
     ]
    }
   ],
   "source": [
    "for i in ['category','animal','size','rating','repeat_purchase']:\n",
    "    print(f'{i}: ',df[i].unique() )"
   ]
  },
  {
   "cell_type": "markdown",
   "id": "32f69fec",
   "metadata": {},
   "source": [
    "We can see the category column, rating column contain missing data"
   ]
  },
  {
   "cell_type": "markdown",
   "id": "7c81aa2e",
   "metadata": {},
   "source": [
    "**Check NaN value**"
   ]
  },
  {
   "cell_type": "code",
   "execution_count": 290,
   "id": "ea71264b",
   "metadata": {},
   "outputs": [
    {
     "data": {
      "text/plain": [
       "product_id           0\n",
       "category             0\n",
       "animal               0\n",
       "size                 0\n",
       "price                0\n",
       "sales                0\n",
       "rating             150\n",
       "repeat_purchase      0\n",
       "dtype: int64"
      ]
     },
     "execution_count": 290,
     "metadata": {},
     "output_type": "execute_result"
    }
   ],
   "source": [
    "df.isna().sum()"
   ]
  },
  {
   "cell_type": "markdown",
   "id": "46c421d9",
   "metadata": {},
   "source": [
    "Only 'rating' column contain NaN values with total of 150 values"
   ]
  },
  {
   "cell_type": "markdown",
   "id": "38721892",
   "metadata": {},
   "source": [
    "**Match the data types with the description**"
   ]
  },
  {
   "cell_type": "markdown",
   "id": "ec1687ac",
   "metadata": {},
   "source": [
    "As we can see, the type of columns 'price' and 'rating' do not match the given description. The price column  must be float and rating column must be integer."
   ]
  },
  {
   "cell_type": "code",
   "execution_count": 291,
   "id": "309535b4",
   "metadata": {},
   "outputs": [],
   "source": [
    "#change column value to numeric value\n",
    "df['price']=pd.to_numeric(df['price'], errors='coerce')\n",
    "df['rating'] = pd.to_numeric(df['rating'],errors='coerce')\n",
    "# Replace Nan values of rating column with 0\n",
    "df['rating'].replace([np.inf, -np.inf, np.nan], 0, inplace=True)\n",
    "# Convert the rating column to integer\n",
    "df['rating'] = df['rating'].astype('int64')"
   ]
  },
  {
   "cell_type": "markdown",
   "id": "5b7cbe80",
   "metadata": {},
   "source": [
    "I will check the data type again"
   ]
  },
  {
   "cell_type": "code",
   "execution_count": 292,
   "id": "545c44a5",
   "metadata": {},
   "outputs": [
    {
     "data": {
      "text/plain": [
       "product_id           int64\n",
       "category            object\n",
       "animal              object\n",
       "size                object\n",
       "price              float64\n",
       "sales              float64\n",
       "rating               int64\n",
       "repeat_purchase      int64\n",
       "dtype: object"
      ]
     },
     "execution_count": 292,
     "metadata": {},
     "output_type": "execute_result"
    }
   ],
   "source": [
    "df.dtypes"
   ]
  },
  {
   "cell_type": "markdown",
   "id": "6e16f8b4",
   "metadata": {},
   "source": [
    "I will check data nan value"
   ]
  },
  {
   "cell_type": "code",
   "execution_count": 293,
   "id": "d7a7752d",
   "metadata": {},
   "outputs": [
    {
     "data": {
      "text/plain": [
       "product_id           0\n",
       "category             0\n",
       "animal               0\n",
       "size                 0\n",
       "price              150\n",
       "sales                0\n",
       "rating               0\n",
       "repeat_purchase      0\n",
       "dtype: int64"
      ]
     },
     "execution_count": 293,
     "metadata": {},
     "output_type": "execute_result"
    }
   ],
   "source": [
    "df.isna().sum()"
   ]
  },
  {
   "cell_type": "markdown",
   "id": "641a4d15",
   "metadata": {},
   "source": [
    "As we see, the origin data type of price is string, after changing it in to float, it appear that there is some value can not be converted into float, so I listed it as missing value, the total numbers is 150 missing values for the price column.\n",
    "I will start to match change the data to match with the description."
   ]
  },
  {
   "cell_type": "markdown",
   "id": "51f21801",
   "metadata": {},
   "source": [
    "***To sum up, I only need to handle with missing values of 'category', 'size' and 'price' column .I will change the data to match with the description.***"
   ]
  },
  {
   "cell_type": "code",
   "execution_count": 294,
   "id": "747338bd",
   "metadata": {},
   "outputs": [],
   "source": [
    "#Replace missing value of 'category' with 'Unknown'\n",
    "df['category'].replace('-','Unknown',inplace=True)\n",
    "#Replace value of 'size' with correct word form\n",
    "df['size']= df['size'].str.lower().str.title()\n",
    "#Replace missing value of 'price' with overall median 'price'\n",
    "df['price'].fillna(df['price'].median(),inplace=True)"
   ]
  },
  {
   "cell_type": "markdown",
   "id": "589b3aeb",
   "metadata": {},
   "source": [
    "Check the data information once again to make sure everything is correct"
   ]
  },
  {
   "cell_type": "code",
   "execution_count": 295,
   "id": "c9f4b60e",
   "metadata": {},
   "outputs": [
    {
     "name": "stdout",
     "output_type": "stream",
     "text": [
      "<class 'pandas.core.frame.DataFrame'>\n",
      "RangeIndex: 1500 entries, 0 to 1499\n",
      "Data columns (total 8 columns):\n",
      " #   Column           Non-Null Count  Dtype  \n",
      "---  ------           --------------  -----  \n",
      " 0   product_id       1500 non-null   int64  \n",
      " 1   category         1500 non-null   object \n",
      " 2   animal           1500 non-null   object \n",
      " 3   size             1500 non-null   object \n",
      " 4   price            1500 non-null   float64\n",
      " 5   sales            1500 non-null   float64\n",
      " 6   rating           1500 non-null   int64  \n",
      " 7   repeat_purchase  1500 non-null   int64  \n",
      "dtypes: float64(2), int64(3), object(3)\n",
      "memory usage: 93.9+ KB\n"
     ]
    }
   ],
   "source": [
    "df.info()"
   ]
  },
  {
   "cell_type": "code",
   "execution_count": 296,
   "id": "9bf33b36",
   "metadata": {},
   "outputs": [
    {
     "name": "stdout",
     "output_type": "stream",
     "text": [
      "category:  ['Food' 'Housing' 'Medicine' 'Toys' 'Equipment' 'Accessory' 'Unknown']\n",
      "animal:  ['Bird' 'Dog' 'Cat' 'Fish']\n",
      "size:  ['Large' 'Medium' 'Small']\n",
      "rating:  [7 6 5 4 8 1 3 0 2 9]\n",
      "repeat_purchase:  [1 0]\n"
     ]
    }
   ],
   "source": [
    "for i in ['category','animal','size','rating','repeat_purchase']:\n",
    "    print(f'{i}: ',df[i].unique() )"
   ]
  },
  {
   "cell_type": "markdown",
   "id": "513632f1",
   "metadata": {},
   "source": [
    "Now, everything matched with the description"
   ]
  },
  {
   "cell_type": "markdown",
   "id": "643d4c36-4183-4fbe-a263-6b9de60d29da",
   "metadata": {},
   "source": [
    "## Task 2"
   ]
  },
  {
   "cell_type": "markdown",
   "id": "7e520c21",
   "metadata": {},
   "source": [
    "**Plot the 'repeat_purchase' column**"
   ]
  },
  {
   "cell_type": "code",
   "execution_count": 297,
   "id": "0db38721",
   "metadata": {},
   "outputs": [
    {
     "data": {
      "image/png": "[encoded data removed]",
      "text/plain": [
       "<Figure size 432x288 with 1 Axes>"
      ]
     },
     "metadata": {
      "needs_background": "light"
     },
     "output_type": "display_data"
    }
   ],
   "source": [
    "a=df['repeat_purchase'].value_counts()\n",
    "plt.bar(0,a[1],0.4)\n",
    "plt.bar(1,a[0],0.4)\n",
    "plt.xticks([0,1],['Repeat Buy','Not Repeat'])\n",
    "plt.show()"
   ]
  },
  {
   "cell_type": "markdown",
   "id": "0af9e873",
   "metadata": {},
   "source": [
    "We can observe that, the number of products was bought repeatedly with more than 900 products is half as much higher than the one-time buy product with just be near to 600 products."
   ]
  },
  {
   "cell_type": "markdown",
   "id": "8354af71",
   "metadata": {},
   "source": [
    "**Plot the 'repeat_purchase' column, devided by 'category'**"
   ]
  },
  {
   "cell_type": "code",
   "execution_count": 298,
   "id": "90bdd6c5",
   "metadata": {},
   "outputs": [
    {
     "data": {
      "text/plain": [
       "category\n",
       "Accessory     70\n",
       "Equipment    221\n",
       "Food         151\n",
       "Housing      152\n",
       "Medicine     153\n",
       "Toys         145\n",
       "Unknown       14\n",
       "Name: repeat_purchase, dtype: int64"
      ]
     },
     "execution_count": 298,
     "metadata": {},
     "output_type": "execute_result"
    }
   ],
   "source": [
    "#Group the category by the numbers of repeat_purchase\n",
    "repeat_buy = df.groupby('category')['repeat_purchase'].sum()\n",
    "repeat_buy"
   ]
  },
  {
   "cell_type": "code",
   "execution_count": 308,
   "id": "b7009c17",
   "metadata": {},
   "outputs": [
    {
     "data": {
      "text/plain": [
       "Accessory     56\n",
       "Equipment    149\n",
       "Food         109\n",
       "Housing       75\n",
       "Medicine      84\n",
       "Toys         110\n",
       "Unknown       11\n",
       "dtype: int64"
      ]
     },
     "execution_count": 308,
     "metadata": {},
     "output_type": "execute_result"
    }
   ],
   "source": [
    "#Group the category by the numbers of non repeat_purchase\n",
    "no_repeat = df['category'].value_counts() - repeat_buy\n",
    "no_repeat"
   ]
  },
  {
   "cell_type": "code",
   "execution_count": 300,
   "id": "160a7431",
   "metadata": {},
   "outputs": [
    {
     "data": {
      "text/html": [
       "<div>\n",
       "<style scoped>\n",
       "    .dataframe tbody tr th:only-of-type {\n",
       "        vertical-align: middle;\n",
       "    }\n",
       "\n",
       "    .dataframe tbody tr th {\n",
       "        vertical-align: top;\n",
       "    }\n",
       "\n",
       "    .dataframe thead th {\n",
       "        text-align: right;\n",
       "    }\n",
       "</style>\n",
       "<table border=\"1\" class=\"dataframe\">\n",
       "  <thead>\n",
       "    <tr style=\"text-align: right;\">\n",
       "      <th></th>\n",
       "      <th>repeat_purchase</th>\n",
       "      <th>0</th>\n",
       "    </tr>\n",
       "  </thead>\n",
       "  <tbody>\n",
       "    <tr>\n",
       "      <th>Accessory</th>\n",
       "      <td>70</td>\n",
       "      <td>56</td>\n",
       "    </tr>\n",
       "    <tr>\n",
       "      <th>Equipment</th>\n",
       "      <td>221</td>\n",
       "      <td>149</td>\n",
       "    </tr>\n",
       "    <tr>\n",
       "      <th>Food</th>\n",
       "      <td>151</td>\n",
       "      <td>109</td>\n",
       "    </tr>\n",
       "    <tr>\n",
       "      <th>Housing</th>\n",
       "      <td>152</td>\n",
       "      <td>75</td>\n",
       "    </tr>\n",
       "    <tr>\n",
       "      <th>Medicine</th>\n",
       "      <td>153</td>\n",
       "      <td>84</td>\n",
       "    </tr>\n",
       "    <tr>\n",
       "      <th>Toys</th>\n",
       "      <td>145</td>\n",
       "      <td>110</td>\n",
       "    </tr>\n",
       "    <tr>\n",
       "      <th>Unknown</th>\n",
       "      <td>14</td>\n",
       "      <td>11</td>\n",
       "    </tr>\n",
       "  </tbody>\n",
       "</table>\n",
       "</div>"
      ],
      "text/plain": [
       "           repeat_purchase    0\n",
       "Accessory               70   56\n",
       "Equipment              221  149\n",
       "Food                   151  109\n",
       "Housing                152   75\n",
       "Medicine               153   84\n",
       "Toys                   145  110\n",
       "Unknown                 14   11"
      ]
     },
     "execution_count": 300,
     "metadata": {},
     "output_type": "execute_result"
    }
   ],
   "source": [
    "#Concatenate two table\n",
    "repeat_buy_details=pd.concat([repeat_buy,no_repeat],axis=1)\n",
    "repeat_buy_details"
   ]
  },
  {
   "cell_type": "code",
   "execution_count": 301,
   "id": "0def2659",
   "metadata": {},
   "outputs": [
    {
     "data": {
      "text/html": [
       "<div>\n",
       "<style scoped>\n",
       "    .dataframe tbody tr th:only-of-type {\n",
       "        vertical-align: middle;\n",
       "    }\n",
       "\n",
       "    .dataframe tbody tr th {\n",
       "        vertical-align: top;\n",
       "    }\n",
       "\n",
       "    .dataframe thead th {\n",
       "        text-align: right;\n",
       "    }\n",
       "</style>\n",
       "<table border=\"1\" class=\"dataframe\">\n",
       "  <thead>\n",
       "    <tr style=\"text-align: right;\">\n",
       "      <th></th>\n",
       "      <th>Repeat Buy</th>\n",
       "      <th>Not Repeat</th>\n",
       "    </tr>\n",
       "  </thead>\n",
       "  <tbody>\n",
       "    <tr>\n",
       "      <th>Accessory</th>\n",
       "      <td>70</td>\n",
       "      <td>56</td>\n",
       "    </tr>\n",
       "    <tr>\n",
       "      <th>Equipment</th>\n",
       "      <td>221</td>\n",
       "      <td>149</td>\n",
       "    </tr>\n",
       "    <tr>\n",
       "      <th>Food</th>\n",
       "      <td>151</td>\n",
       "      <td>109</td>\n",
       "    </tr>\n",
       "    <tr>\n",
       "      <th>Housing</th>\n",
       "      <td>152</td>\n",
       "      <td>75</td>\n",
       "    </tr>\n",
       "    <tr>\n",
       "      <th>Medicine</th>\n",
       "      <td>153</td>\n",
       "      <td>84</td>\n",
       "    </tr>\n",
       "    <tr>\n",
       "      <th>Toys</th>\n",
       "      <td>145</td>\n",
       "      <td>110</td>\n",
       "    </tr>\n",
       "    <tr>\n",
       "      <th>Unknown</th>\n",
       "      <td>14</td>\n",
       "      <td>11</td>\n",
       "    </tr>\n",
       "  </tbody>\n",
       "</table>\n",
       "</div>"
      ],
      "text/plain": [
       "           Repeat Buy  Not Repeat\n",
       "Accessory          70          56\n",
       "Equipment         221         149\n",
       "Food              151         109\n",
       "Housing           152          75\n",
       "Medicine          153          84\n",
       "Toys              145         110\n",
       "Unknown            14          11"
      ]
     },
     "execution_count": 301,
     "metadata": {},
     "output_type": "execute_result"
    }
   ],
   "source": [
    "#Change column name \n",
    "repeat_buy_details=repeat_buy_details.rename({'repeat_purchase':'Repeat Buy',0:'Not Repeat'},axis=1)\n",
    "repeat_buy_details"
   ]
  },
  {
   "cell_type": "code",
   "execution_count": 302,
   "id": "82a1e730",
   "metadata": {},
   "outputs": [
    {
     "data": {
      "image/png": "[encoded data removed]",
      "text/plain": [
       "<Figure size 720x360 with 1 Axes>"
      ]
     },
     "metadata": {
      "needs_background": "light"
     },
     "output_type": "display_data"
    }
   ],
   "source": [
    "#Plot the column\n",
    "cols, rows = repeat_buy_details.columns,repeat_buy_details.index\n",
    "RepeatBuy=repeat_buy_details['Repeat Buy']\n",
    "NotRepeat=repeat_buy_details['Not Repeat']\n",
    "X_axis = np.arange(len(rows))\n",
    "plt.figure(figsize=(10, 5))\n",
    "plt.bar(X_axis - 0.2, RepeatBuy, 0.4, label = 'Repeat Buy')\n",
    "plt.bar(X_axis + 0.2, NotRepeat, 0.4, label = 'Not Repeat')\n",
    "plt.xticks(X_axis,rows)\n",
    "plt.title('Repeated and not repeated purchase for each category')\n",
    "plt.xlabel('Category')\n",
    "plt.ylabel('Products')\n",
    "plt.legend(cols)\n",
    "plt.show()"
   ]
  },
  {
   "cell_type": "markdown",
   "id": "1cc79a96",
   "metadata": {},
   "source": [
    "We can see that, the Equipment category has the most observations along all the categories with more than 200 products."
   ]
  },
  {
   "cell_type": "markdown",
   "id": "90936e93",
   "metadata": {},
   "source": [
    "The observations is seem to balanced for Food, Housing, Medicine and Toys category with around 150 products. Except for Accessory with only about 75 products. But to compare the Repeat Buy of Accessory, Toys, Food and Equipment category seem to be just much more for a half of Not Repeat whule Housing and Medicine is twice much more."
   ]
  },
  {
   "cell_type": "markdown",
   "id": "ce5f6df2-fbf2-4c44-9209-9ee668876b53",
   "metadata": {},
   "source": [
    "## Task 3"
   ]
  },
  {
   "cell_type": "code",
   "execution_count": 303,
   "id": "66c0615a",
   "metadata": {},
   "outputs": [
    {
     "data": {
      "image/png": "[encoded data removed]",
      "text/plain": [
       "<Figure size 720x360 with 1 Axes>"
      ]
     },
     "metadata": {
      "needs_background": "light"
     },
     "output_type": "display_data"
    }
   ],
   "source": [
    "plt.figure(figsize=(10, 5))\n",
    "plt.hist(df['sales'], bins=50 , edgecolor='black')\n",
    "plt.xlabel('Sales')\n",
    "plt.ylabel('Frequency')\n",
    "plt.title('Distribution of the Sales')\n",
    "plt.show()"
   ]
  },
  {
   "cell_type": "markdown",
   "id": "e56ef239",
   "metadata": {},
   "source": [
    "We can see that, the distribution of the Sales is mostly range around 1000, from 650 to 900 and around 1400, while the products usually have the sale around 1000 with about 400 products. Just some products have the sales for more than 1500 and below 300."
   ]
  },
  {
   "cell_type": "markdown",
   "id": "c5fbe3a0-d277-437c-a1a0-f1edf80684f7",
   "metadata": {},
   "source": [
    "## Task 4"
   ]
  },
  {
   "cell_type": "code",
   "execution_count": 304,
   "id": "91272918",
   "metadata": {},
   "outputs": [
    {
     "data": {
      "text/plain": [
       "<matplotlib.collections.PathCollection at 0x1c8291df1c0>"
      ]
     },
     "execution_count": 304,
     "metadata": {},
     "output_type": "execute_result"
    },
    {
     "data": {
      "image/png": "[encoded data removed]",
      "text/plain": [
       "<Figure size 720x360 with 1 Axes>"
      ]
     },
     "metadata": {
      "needs_background": "light"
     },
     "output_type": "display_data"
    }
   ],
   "source": [
    "plt.figure(figsize=(10, 5))\n",
    "plt.scatter(df['repeat_purchase'],df['sales'])"
   ]
  },
  {
   "cell_type": "code",
   "execution_count": 305,
   "id": "3188b011",
   "metadata": {},
   "outputs": [
    {
     "data": {
      "image/png": "[encoded data removed]",
      "text/plain": [
       "<Figure size 720x360 with 1 Axes>"
      ]
     },
     "metadata": {
      "needs_background": "light"
     },
     "output_type": "display_data"
    }
   ],
   "source": [
    "df1=df[df['repeat_purchase']==0]\n",
    "df2=df[df['repeat_purchase']==1]\n",
    "plt.figure(figsize=(10, 5))\n",
    "plt.hist(df2['sales'], bins=50 ,alpha=0.5, edgecolor='black', label='Repeated Buy')\n",
    "plt.hist(df1['sales'], bins=50 ,alpha=0.5, edgecolor='black',label='Not Repeat')\n",
    "plt.xlabel('Sales')\n",
    "plt.ylabel('Frequency')\n",
    "plt.title('Distribution of the Sales')\n",
    "plt.legend()\n",
    "plt.show()"
   ]
  },
  {
   "cell_type": "markdown",
   "id": "d4d4afc4",
   "metadata": {},
   "source": [
    "We can see that, it seem to be there are no relationships between the sales and repeated purchase, that the distribution of sale between sales for products that be repeated buy and not be repeated in the scatter plot look the same. But in the histogram the frequency of sales for Repeated Buy higher a little bit."
   ]
  },
  {
   "cell_type": "markdown",
   "id": "04889b91",
   "metadata": {},
   "source": [
    "I will check the correlation for more clear:"
   ]
  },
  {
   "cell_type": "code",
   "execution_count": 306,
   "id": "989ee598",
   "metadata": {},
   "outputs": [
    {
     "data": {
      "text/plain": [
       "-0.07943499269258511"
      ]
     },
     "execution_count": 306,
     "metadata": {},
     "output_type": "execute_result"
    }
   ],
   "source": [
    "df['sales'].corr(df['repeat_purchase'])"
   ]
  },
  {
   "cell_type": "markdown",
   "id": "d7cf4ee4",
   "metadata": {},
   "source": [
    "We can see that, there is nearly  no correlation between sales and repeat purchase"
   ]
  },
  {
   "cell_type": "markdown",
   "id": "f635131a-00f8-44dd-b610-509db41c1154",
   "metadata": {
    "tags": []
   },
   "source": [
    "## ✅ When you have finished...\n",
    "-  Publish your Workspace using the option on the left\n",
    "-  Check the published version of your report:\n",
    "\t-  Can you see everything you want us to grade?\n",
    "    -  Are all the graphics visible?\n",
    "-  Review the grading rubric. Have you included everything that will be graded?\n",
    "-  Head back to the [Certification Dashboard](https://app.datacamp.com/certification) to submit your practical exam"
   ]
  }
 ],
 "metadata": {
  "colab": {
   "name": "Welcome to DataCamp Workspaces.ipynb",
   "provenance": []
  },
  "kernelspec": {
   "display_name": "Python 3",
   "language": "python",
   "name": "python3"
  },
  "language_info": {
   "codemirror_mode": {
    "name": "ipython",
    "version": 3
   },
   "file_extension": ".py",
   "mimetype": "text/x-python",
   "name": "python",
   "nbconvert_exporter": "python",
   "pygments_lexer": "ipython3",
   "version": "3.8.3"
  }
 },
 "nbformat": 4,
 "nbformat_minor": 5
}
